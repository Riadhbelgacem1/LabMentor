{
  "nbformat": 4,
  "nbformat_minor": 0,
  "metadata": {
    "colab": {
      "provenance": []
    },
    "kernelspec": {
      "name": "python3",
      "display_name": "Python 3"
    },
    "language_info": {
      "name": "python"
    }
  },
  "cells": [
    {
      "cell_type": "code",
      "execution_count": null,
      "metadata": {
        "colab": {
          "base_uri": "https://localhost:8080/"
        },
        "id": "X7_3UoZdD6pT",
        "outputId": "fa2c81b0-d28f-4cbd-e7c5-e301e7629841"
      },
      "outputs": [
        {
          "output_type": "stream",
          "name": "stdout",
          "text": [
            "Requirement already satisfied: qiskit==0.37.2 in /usr/local/lib/python3.10/dist-packages (0.37.2)\n",
            "Requirement already satisfied: qiskit-terra==0.21.2 in /usr/local/lib/python3.10/dist-packages (from qiskit==0.37.2) (0.21.2)\n",
            "Requirement already satisfied: qiskit-aer==0.10.4 in /usr/local/lib/python3.10/dist-packages (from qiskit==0.37.2) (0.10.4)\n",
            "Requirement already satisfied: qiskit-ibmq-provider==0.19.2 in /usr/local/lib/python3.10/dist-packages (from qiskit==0.37.2) (0.19.2)\n",
            "Requirement already satisfied: numpy>=1.16.3 in /usr/local/lib/python3.10/dist-packages (from qiskit-aer==0.10.4->qiskit==0.37.2) (1.26.4)\n",
            "Requirement already satisfied: scipy>=1.0 in /usr/local/lib/python3.10/dist-packages (from qiskit-aer==0.10.4->qiskit==0.37.2) (1.13.1)\n",
            "Requirement already satisfied: requests>=2.19 in /usr/local/lib/python3.10/dist-packages (from qiskit-ibmq-provider==0.19.2->qiskit==0.37.2) (2.31.0)\n",
            "Requirement already satisfied: requests-ntlm>=1.1.0 in /usr/local/lib/python3.10/dist-packages (from qiskit-ibmq-provider==0.19.2->qiskit==0.37.2) (1.3.0)\n",
            "Requirement already satisfied: urllib3>=1.21.1 in /usr/local/lib/python3.10/dist-packages (from qiskit-ibmq-provider==0.19.2->qiskit==0.37.2) (2.0.7)\n",
            "Requirement already satisfied: python-dateutil>=2.8.0 in /usr/local/lib/python3.10/dist-packages (from qiskit-ibmq-provider==0.19.2->qiskit==0.37.2) (2.8.2)\n",
            "Requirement already satisfied: websocket-client>=1.0.1 in /usr/local/lib/python3.10/dist-packages (from qiskit-ibmq-provider==0.19.2->qiskit==0.37.2) (1.8.0)\n",
            "Requirement already satisfied: websockets>=10.0 in /usr/local/lib/python3.10/dist-packages (from qiskit-ibmq-provider==0.19.2->qiskit==0.37.2) (12.0)\n",
            "Requirement already satisfied: retworkx>=0.11.0 in /usr/local/lib/python3.10/dist-packages (from qiskit-terra==0.21.2->qiskit==0.37.2) (0.15.1)\n",
            "Requirement already satisfied: ply>=3.10 in /usr/local/lib/python3.10/dist-packages (from qiskit-terra==0.21.2->qiskit==0.37.2) (3.11)\n",
            "Requirement already satisfied: psutil>=5 in /usr/local/lib/python3.10/dist-packages (from qiskit-terra==0.21.2->qiskit==0.37.2) (5.9.5)\n",
            "Requirement already satisfied: sympy>=1.3 in /usr/local/lib/python3.10/dist-packages (from qiskit-terra==0.21.2->qiskit==0.37.2) (1.13.1)\n",
            "Requirement already satisfied: dill>=0.3 in /usr/local/lib/python3.10/dist-packages (from qiskit-terra==0.21.2->qiskit==0.37.2) (0.3.8)\n",
            "Requirement already satisfied: stevedore>=3.0.0 in /usr/local/lib/python3.10/dist-packages (from qiskit-terra==0.21.2->qiskit==0.37.2) (5.2.0)\n",
            "Requirement already satisfied: tweedledum<2.0,>=1.1 in /usr/local/lib/python3.10/dist-packages (from qiskit-terra==0.21.2->qiskit==0.37.2) (1.1.1)\n",
            "Requirement already satisfied: symengine>=0.9 in /usr/local/lib/python3.10/dist-packages (from qiskit-terra==0.21.2->qiskit==0.37.2) (0.11.0)\n",
            "Requirement already satisfied: six>=1.5 in /usr/local/lib/python3.10/dist-packages (from python-dateutil>=2.8.0->qiskit-ibmq-provider==0.19.2->qiskit==0.37.2) (1.16.0)\n",
            "Requirement already satisfied: charset-normalizer<4,>=2 in /usr/local/lib/python3.10/dist-packages (from requests>=2.19->qiskit-ibmq-provider==0.19.2->qiskit==0.37.2) (3.3.2)\n",
            "Requirement already satisfied: idna<4,>=2.5 in /usr/local/lib/python3.10/dist-packages (from requests>=2.19->qiskit-ibmq-provider==0.19.2->qiskit==0.37.2) (3.7)\n",
            "Requirement already satisfied: certifi>=2017.4.17 in /usr/local/lib/python3.10/dist-packages (from requests>=2.19->qiskit-ibmq-provider==0.19.2->qiskit==0.37.2) (2024.7.4)\n",
            "Requirement already satisfied: cryptography>=1.3 in /usr/local/lib/python3.10/dist-packages (from requests-ntlm>=1.1.0->qiskit-ibmq-provider==0.19.2->qiskit==0.37.2) (42.0.8)\n",
            "Requirement already satisfied: pyspnego>=0.4.0 in /usr/local/lib/python3.10/dist-packages (from requests-ntlm>=1.1.0->qiskit-ibmq-provider==0.19.2->qiskit==0.37.2) (0.11.1)\n",
            "Requirement already satisfied: rustworkx==0.15.1 in /usr/local/lib/python3.10/dist-packages (from retworkx>=0.11.0->qiskit-terra==0.21.2->qiskit==0.37.2) (0.15.1)\n",
            "Requirement already satisfied: pbr!=2.1.0,>=2.0.0 in /usr/local/lib/python3.10/dist-packages (from stevedore>=3.0.0->qiskit-terra==0.21.2->qiskit==0.37.2) (6.0.0)\n",
            "Requirement already satisfied: mpmath<1.4,>=1.1.0 in /usr/local/lib/python3.10/dist-packages (from sympy>=1.3->qiskit-terra==0.21.2->qiskit==0.37.2) (1.3.0)\n",
            "Requirement already satisfied: cffi>=1.12 in /usr/local/lib/python3.10/dist-packages (from cryptography>=1.3->requests-ntlm>=1.1.0->qiskit-ibmq-provider==0.19.2->qiskit==0.37.2) (1.16.0)\n",
            "Requirement already satisfied: pycparser in /usr/local/lib/python3.10/dist-packages (from cffi>=1.12->cryptography>=1.3->requests-ntlm>=1.1.0->qiskit-ibmq-provider==0.19.2->qiskit==0.37.2) (2.22)\n"
          ]
        }
      ],
      "source": [
        "!pip install qiskit==0.37.2"
      ]
    },
    {
      "cell_type": "code",
      "source": [
        "YEAST     = \"----------------------------------MM----------------------------\"\n",
        "PROTOZOAN = \"--MM---------------M------------MMMM---------------M------------\"\n",
        "BACTERIAL = \"---M---------------M------------MMMM---------------M------------\""
      ],
      "metadata": {
        "id": "e-q0Bd_jEBT0"
      },
      "execution_count": null,
      "outputs": []
    },
    {
      "cell_type": "code",
      "source": [
        "import sys\n",
        "import numpy as np\n",
        "import math\n",
        "from qiskit import QuantumCircuit, QuantumRegister, ClassicalRegister, transpile\n",
        "from qiskit import IBMQ, BasicAer\n",
        "# use local simulator\n",
        "backend = BasicAer.get_backend(\"qasm_simulator\")\n",
        "\n",
        "from qiskit.circuit import Gate"
      ],
      "metadata": {
        "id": "NMHNQqx5ECnI"
      },
      "execution_count": null,
      "outputs": []
    },
    {
      "cell_type": "code",
      "source": [
        "def encode_bitstring(bitstring, qr, cr, inverse=False):\n",
        "    \"\"\"\n",
        "    create a circuit for constructing the quantum superposition of the bitstring\n",
        "    \"\"\"\n",
        "    n = math.ceil(math.log2(len(bitstring))) + 1                 #number of qubits\n",
        "    assert n > 2, \"the length of bitstring must be at least 2\"\n",
        "\n",
        "    qc = QuantumCircuit(qr, cr)\n",
        "\n",
        "    #the probability amplitude of the desired state\n",
        "    desired_vector = np.array([ 0.0 for i in range(2**n) ])     #initialize to zero\n",
        "    amplitude = np.sqrt(1.0/2**(n-1))\n",
        "\n",
        "    for i, b in enumerate(bitstring):\n",
        "        pos = i * 2\n",
        "        if b == \"1\" or b == \"M\":\n",
        "            pos += 1\n",
        "        desired_vector[pos] = amplitude\n",
        "    if not inverse:\n",
        "        qc.initialize(desired_vector, qr)\n",
        "        qc.barrier(qr)\n",
        "    else:\n",
        "        qc.initialize(desired_vector,qr)\n",
        "        qc = transpile(qc,backend).inverse()\n",
        "\n",
        "        for i in range(n):\n",
        "            qc.measure(qr[i], cr[i])\n",
        "    print()\n",
        "    return qc"
      ],
      "metadata": {
        "id": "Hl0bl3KAElbg"
      },
      "execution_count": null,
      "outputs": []
    },
    {
      "cell_type": "code",
      "source": [
        "n = math.ceil(math.log2(len(YEAST))) + 1                 #number of qubits\n",
        "qr = QuantumRegister(n)\n",
        "cr = ClassicalRegister(n)\n",
        "\n",
        "qc_yeast     = encode_bitstring(YEAST, qr, cr)\n",
        "qc_protozoan = encode_bitstring(PROTOZOAN, qr, cr)\n",
        "qc_bacterial = encode_bitstring(BACTERIAL, qr, cr)\n",
        "\n",
        "circs = {\"YEAST\": qc_yeast, \"PROTOZOAN\": qc_protozoan, \"BACTERIAL\": qc_bacterial}"
      ],
      "metadata": {
        "colab": {
          "base_uri": "https://localhost:8080/"
        },
        "id": "uU7LG3S-EpBa",
        "outputId": "83a94cfe-f310-4fbb-9527-a66e3b2b154b"
      },
      "execution_count": null,
      "outputs": [
        {
          "output_type": "stream",
          "name": "stdout",
          "text": [
            "\n",
            "\n",
            "\n"
          ]
        }
      ]
    },
    {
      "cell_type": "code",
      "source": [
        "inverse_qc_yeast = encode_bitstring(YEAST,qr,cr, inverse=True)\n",
        "inverse_qc_protozoan = encode_bitstring(PROTOZOAN, qr, cr, inverse=True)\n",
        "inverse_qc_bacterial = encode_bitstring(BACTERIAL, qr, cr, inverse=True)\n",
        "\n",
        "inverse_circs = {\"YEAST\": inverse_qc_yeast, \"PROTOZOAN\": inverse_qc_protozoan, \"BACTERIAL\": inverse_qc_bacterial}\n"
      ],
      "metadata": {
        "colab": {
          "base_uri": "https://localhost:8080/"
        },
        "id": "2WghydIeEr2m",
        "outputId": "04e6b4da-fa63-49de-e9f1-549446b5af6c"
      },
      "execution_count": null,
      "outputs": [
        {
          "output_type": "stream",
          "name": "stdout",
          "text": [
            "\n",
            "\n",
            "\n"
          ]
        }
      ]
    },
    {
      "cell_type": "code",
      "source": [
        "from qiskit import IBMQ, BasicAer\n",
        "\n",
        "key = \"PROTOZOAN\"       #the name of the code used as key to find similar ones\n",
        "\n",
        "# use local simulator\n",
        "backend = BasicAer.get_backend(\"qasm_simulator\")\n",
        "shots = 1000\n",
        "\n",
        "combined_circs = {}\n",
        "count = {}\n",
        "\n",
        "most_similar, most_similar_score = \"\", -1.0\n",
        "\n",
        "for other_key in inverse_circs:\n",
        "    if other_key == key:\n",
        "        continue\n",
        "\n",
        "    combined_circs[other_key] = circs[key].compose(inverse_circs[other_key])   #combined circuits to look for similar codes\n",
        "    job = execute(combined_circs[other_key], backend=backend,shots=shots)\n",
        "    st = job.result().get_counts(combined_circs[other_key])\n",
        "    if \"0\"*n in st:\n",
        "        sim_score = st[\"0\"*n]/shots\n",
        "    else:\n",
        "        sim_score = 0.0\n",
        "\n",
        "    print(\"Similarity score of\",key,\"and\",other_key,\"is\",sim_score)\n",
        "    if most_similar_score < sim_score:\n",
        "        most_similar, most_similar_score = other_key, sim_score\n",
        "\n",
        "print(\"[ANSWER]\", key,\"is most similar to\", most_similar)"
      ],
      "metadata": {
        "colab": {
          "base_uri": "https://localhost:8080/"
        },
        "id": "3yunEsrYKprg",
        "outputId": "8c7361e8-3d27-4049-b5ef-5ad01e1f6e56"
      },
      "execution_count": null,
      "outputs": [
        {
          "output_type": "stream",
          "name": "stdout",
          "text": [
            "Similarity score of PROTOZOAN and YEAST is 0.82\n",
            "Similarity score of PROTOZOAN and BACTERIAL is 0.977\n",
            "[ANSWER] PROTOZOAN is most similar to BACTERIAL\n"
          ]
        }
      ]
    }
  ]
}